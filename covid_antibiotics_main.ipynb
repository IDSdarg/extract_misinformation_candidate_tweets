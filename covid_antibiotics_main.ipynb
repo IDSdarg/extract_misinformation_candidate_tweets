{
 "cells": [
  {
   "cell_type": "code",
   "execution_count": null,
   "metadata": {},
   "outputs": [],
   "source": [
    "import glob, scipy, json, re, time, pickle\n",
    "import pandas as pd\n",
    "import workers\n",
    "from multiprocessing import Pool\n",
    "import numpy as np\n",
    "import matplotlib.pyplot as plt\n",
    "import feather, pytz, spacy, datetime\n",
    "from itertools import chain\n",
    "from datetime import timezone\n",
    "import en_core_web_sm\n",
    "nlp = en_core_web_sm.load()\n",
    "\n",
    "from sentence_transformers import SentenceTransformer\n",
    "sbert = SentenceTransformer('bert-base-nli-mean-tokens')"
   ]
  },
  {
   "cell_type": "markdown",
   "metadata": {},
   "source": [
    "# Preprocess replies"
   ]
  },
  {
   "cell_type": "code",
   "execution_count": 2,
   "metadata": {},
   "outputs": [
    {
     "name": "stdout",
     "output_type": "stream",
     "text": [
      "(16396, 4)\n"
     ]
    }
   ],
   "source": [
    "def extract_tweet_info(x):\n",
    "    return [x['id'], int(x['created_at']/1000), x.get('user_id', ''), x['tweet']]\n",
    "\n",
    "file_list = glob.glob('./dat/covid_antibiotics_replies/*.json')\n",
    "\n",
    "sampled_tweets = []\n",
    "for file in file_list:\n",
    "    for line in open(file, 'r', encoding='utf-8'):\n",
    "        sampled_tweets.append(extract_tweet_info(json.loads(line)))\n",
    "        \n",
    "sampled_tweets_df = pd.DataFrame(sampled_tweets, columns=['id', 'created', 'uid', 'text'])\n",
    "print(sampled_tweets_df.shape)"
   ]
  },
  {
   "cell_type": "code",
   "execution_count": 3,
   "metadata": {},
   "outputs": [
    {
     "name": "stdout",
     "output_type": "stream",
     "text": [
      "size of df in the year 2020: (16383, 4)\n",
      "size of df after dropping duplicates: (16383, 4)\n"
     ]
    }
   ],
   "source": [
    "covid_df = sampled_tweets_df.copy()\n",
    "covid_df.index = covid_df.created.apply(lambda x: datetime.datetime.fromtimestamp(x, pytz.utc))\n",
    "covid_df = covid_df.sort_index()\n",
    "\n",
    "criteria  = (covid_df.index.year==2020)\n",
    "covid_df = covid_df[criteria]\n",
    "print(\"size of df in the year 2020:\", covid_df.shape)\n",
    "\n",
    "covid_df = covid_df.drop_duplicates()\n",
    "print(\"size of df after dropping duplicates:\", covid_df.shape)"
   ]
  },
  {
   "cell_type": "code",
   "execution_count": 4,
   "metadata": {},
   "outputs": [
    {
     "data": {
      "text/plain": [
       "(array([737425., 737439., 737456., 737470., 737485., 737499., 737516.]),\n",
       " <a list of 7 Text xticklabel objects>)"
      ]
     },
     "execution_count": 4,
     "metadata": {},
     "output_type": "execute_result"
    },
    {
     "data": {
      "image/png": "[encoded data removed]",
      "text/plain": [
       "<Figure size 432x288 with 1 Axes>"
      ]
     },
     "metadata": {
      "needs_background": "light"
     },
     "output_type": "display_data"
    }
   ],
   "source": [
    "covid_df = covid_df[covid_df.index.date<=datetime.date(2020,3,31)]\n",
    "pd.plotting.register_matplotlib_converters()\n",
    "\n",
    "plt.plot(covid_df.groupby(lambda x: x.date)['text'].count())\n",
    "plt.xticks(rotation=70)"
   ]
  },
  {
   "cell_type": "markdown",
   "metadata": {},
   "source": [
    "## Clean text"
   ]
  },
  {
   "cell_type": "code",
   "execution_count": 5,
   "metadata": {},
   "outputs": [
    {
     "name": "stdout",
     "output_type": "stream",
     "text": [
      "Wall time: 185 ms\n"
     ]
    }
   ],
   "source": [
    "num_processors = 10\n",
    "p=Pool(processes = num_processors)\n",
    "%time output = p.map(workers.twitter_preprocessing, covid_df.text)\n",
    "p.close()\n",
    "p.terminate()"
   ]
  },
  {
   "cell_type": "code",
   "execution_count": null,
   "metadata": {},
   "outputs": [],
   "source": [
    "sbert_embs = np.array(sbert.encode(output, show_progress_bar=True, batch_size=20))"
   ]
  },
  {
   "cell_type": "code",
   "execution_count": null,
   "metadata": {},
   "outputs": [],
   "source": [
    "# fname = './covid_tweet_replies_embs_mar31_utc_timezone.npy'\n",
    "# np.save(fname, np.array(sbert_embs))"
   ]
  }
 ],
 "metadata": {
  "kernelspec": {
   "display_name": "Python 3",
   "language": "python",
   "name": "python3"
  },
  "language_info": {
   "codemirror_mode": {
    "name": "ipython",
    "version": 3
   },
   "file_extension": ".py",
   "mimetype": "text/x-python",
   "name": "python",
   "nbconvert_exporter": "python",
   "pygments_lexer": "ipython3",
   "version": "3.7.3"
  }
 },
 "nbformat": 4,
 "nbformat_minor": 2
}
