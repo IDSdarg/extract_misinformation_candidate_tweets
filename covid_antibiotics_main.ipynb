{
 "cells": [
  {
   "cell_type": "code",
   "execution_count": null,
   "metadata": {},
   "outputs": [],
   "source": [
    "import glob, scipy, json, re, time, pickle\n",
    "import pandas as pd\n",
    "import workers\n",
    "from multiprocessing import Pool\n",
    "import numpy as np\n",
    "import matplotlib.pyplot as plt\n",
    "import feather, pytz, spacy, datetime\n",
    "from itertools import chain\n",
    "from datetime import timezone\n",
    "import en_core_web_sm\n",
    "nlp = en_core_web_sm.load()\n",
    "\n",
    "from sentence_transformers import SentenceTransformer\n",
    "sbert = SentenceTransformer('bert-base-nli-mean-tokens')"
   ]
  },
  {
   "cell_type": "markdown",
   "metadata": {},
   "source": [
    "# Preprocess replies"
   ]
  },
  {
   "cell_type": "code",
   "execution_count": 2,
   "metadata": {},
   "outputs": [
    {
     "name": "stdout",
     "output_type": "stream",
     "text": [
      "(16396, 4)\n"
     ]
    }
   ],
   "source": [
    "def extract_tweet_info(x):\n",
    "    return [x['id'], int(x['created_at']/1000), x.get('user_id', ''), x['tweet']]\n",
    "\n",
    "file_list = glob.glob('./dat/covid_antibiotics_replies/*.json')\n",
    "\n",
    "sampled_tweets = []\n",
    "for file in file_list:\n",
    "    for line in open(file, 'r', encoding='utf-8'):\n",
    "        sampled_tweets.append(extract_tweet_info(json.loads(line)))\n",
    "        \n",
    "sampled_tweets_df = pd.DataFrame(sampled_tweets, columns=['id', 'created', 'uid', 'text'])\n",
    "print(sampled_tweets_df.shape)"
   ]
  },
  {
   "cell_type": "code",
   "execution_count": 3,
   "metadata": {},
   "outputs": [
    {
     "name": "stdout",
     "output_type": "stream",
     "text": [
      "size of df in the year 2020: (16383, 4)\n",
      "size of df after dropping duplicates: (16383, 4)\n"
     ]
    }
   ],
   "source": [
    "covid_df = sampled_tweets_df.copy()\n",
    "covid_df.index = covid_df.created.apply(lambda x: datetime.datetime.fromtimestamp(x, pytz.utc))\n",
    "covid_df = covid_df.sort_index()\n",
    "\n",
    "criteria  = (covid_df.index.year==2020)\n",
    "covid_df = covid_df[criteria]\n",
    "print(\"size of df in the year 2020:\", covid_df.shape)\n",
    "\n",
    "covid_df = covid_df.drop_duplicates()\n",
    "print(\"size of df after dropping duplicates:\", covid_df.shape)"
   ]
  },
  {
   "cell_type": "code",
   "execution_count": 4,
   "metadata": {},
   "outputs": [
    {
     "data": {
      "text/plain": [
       "(array([737425., 737439., 737456., 737470., 737485., 737499., 737516.]),\n",
       " <a list of 7 Text xticklabel objects>)"
      ]
     },
     "execution_count": 4,
     "metadata": {},
     "output_type": "execute_result"
    },
    {
     "data": {
      "image/png": "[encoded data removed]",
      "text/plain": [
       "<Figure size 432x288 with 1 Axes>"
      ]
     },
     "metadata": {
      "needs_background": "light"
     },
     "output_type": "display_data"
    }
   ],
   "source": [
    "covid_df = covid_df[covid_df.index.date<=datetime.date(2020,3,31)]\n",
    "pd.plotting.register_matplotlib_converters()\n",
    "\n",
    "plt.plot(covid_df.groupby(lambda x: x.date)['text'].count())\n",
    "plt.xticks(rotation=70)"
   ]
  },
  {
   "cell_type": "markdown",
   "metadata": {},
   "source": [
    "## Clean text"
   ]
  },
  {
   "cell_type": "code",
   "execution_count": 5,
   "metadata": {},
   "outputs": [
    {
     "name": "stdout",
     "output_type": "stream",
     "text": [
      "Wall time: 185 ms\n"
     ]
    }
   ],
   "source": [
    "num_processors = 10\n",
    "p=Pool(processes = num_processors)\n",
    "%time output = p.map(workers.twitter_preprocessing, covid_df.text)\n",
    "p.close()\n",
    "p.terminate()"
   ]
  },
  {
   "cell_type": "code",
   "execution_count": null,
   "metadata": {},
   "outputs": [],
   "source": [
    "sbert_embs = np.array(sbert.encode(output, show_progress_bar=True, batch_size=20))"
   ]
  },
  {
   "cell_type": "code",
   "execution_count": null,
   "metadata": {},
   "outputs": [],
   "source": [
    "# fname = './covid_tweet_replies_embs_mar31_utc_timezone.npy'\n",
    "# np.save(fname, np.array(sbert_embs))"
   ]
  },
  {
   "cell_type": "markdown",
   "metadata": {},
   "source": [
    "## Calculate contextual similarity"
   ]
  },
  {
   "cell_type": "code",
   "execution_count": 6,
   "metadata": {},
   "outputs": [],
   "source": [
    "fname = './dat/covid_tweet_replies_embs_mar31_utc_timezone.npy'\n",
    "sbert_embs = np.load(fname)"
   ]
  },
  {
   "cell_type": "code",
   "execution_count": 7,
   "metadata": {},
   "outputs": [],
   "source": [
    "#https://www.who.int/emergencies/diseases/novel-coronavirus-2019/advice-for-public/myth-busters\n",
    "who_official = \"No, antibiotics do not work against viruses, only bacteria. The new coronavirus (2019-nCoV) is a virus and, therefore, antibiotics should not be used as a means of prevention or treatment. However, if you are hospitalized for the 2019-nCoV, you may receive antibiotics because bacterial co-infection is possible.\""
   ]
  },
  {
   "cell_type": "code",
   "execution_count": 8,
   "metadata": {},
   "outputs": [
    {
     "name": "stderr",
     "output_type": "stream",
     "text": [
      "Batches: 100%|███████████████████████████████████████████████████████████████████████████| 1/1 [00:00<00:00,  8.61it/s]\n"
     ]
    }
   ],
   "source": [
    "from sklearn.metrics.pairwise import cosine_similarity\n",
    "who_embs = sbert.encode([who_official], show_progress_bar=True, batch_size=20)\n",
    "sims = cosine_similarity(who_embs, sbert_embs)\n",
    "sims = sims.flatten()\n",
    "\n",
    "covid_df = covid_df.assign(sims=sims)\n",
    "covid_df = covid_df.sort_values(by=['sims'], ascending=False)"
   ]
  },
  {
   "cell_type": "markdown",
   "metadata": {},
   "source": [
    "# Collect parent tweets"
   ]
  },
  {
   "cell_type": "code",
   "execution_count": 10,
   "metadata": {},
   "outputs": [],
   "source": [
    "import tweepy\n",
    "import config # Twitter api app credential\n",
    "\n",
    "auth = tweepy.OAuthHandler(config.ckey, config.csec)\n",
    "auth.set_access_token(config.akey, config.asec)\n",
    "api = tweepy.API(auth)"
   ]
  },
  {
   "cell_type": "code",
   "execution_count": null,
   "metadata": {},
   "outputs": [],
   "source": [
    "import time\n",
    "downloaded_threads = glob.glob('./dat/tweet_threads/*.json')\n",
    "downloaded_threads = [x.split('\\\\')[-1].split('.')[0] for x in downloaded_threads]\n",
    "for ix, target_id in enumerate(covid_df.id):\n",
    "    if str(target_id) in downloaded_threads:\n",
    "        continue\n",
    "    else:\n",
    "        print(ix, \"target:\", target_id)\n",
    "        thread = []\n",
    "        try:\n",
    "            tmp = api.get_status(id=target_id, tweet_mode='extended')._json\n",
    "            thread.append(tmp)\n",
    "            tmp_id = tmp['in_reply_to_status_id']; \n",
    "        except:\n",
    "            with open(\"F:/code/hyunuk/antibiotics/dat/tweet_threads/%s.json\" % target_id, 'w') as f:\n",
    "                json.dump(thread, f)\n",
    "            continue\n",
    "                   \n",
    "        while (tmp_id is not None):\n",
    "            #pd.isna(tmp_id)==False\n",
    "            if len(thread)>2: #can be changed if we want to track further\n",
    "                break\n",
    "            try:\n",
    "                tmp = api.get_status(id=tmp_id, tweet_mode='extended')._json\n",
    "                thread.append(tmp)\n",
    "                tmp_id = tmp['in_reply_to_status_id']            \n",
    "                time.sleep(2.1)\n",
    "            except:\n",
    "                thread.append({'id': tmp_id, 'created_at': 'unavailable'})\n",
    "                tmp_id = None\n",
    "\n",
    "        with open(\"./dat/tweet_threads/%s.json\" % target_id, 'w') as f:\n",
    "            json.dump(thread, f)   "
   ]
  },
  {
   "cell_type": "markdown",
   "metadata": {},
   "source": [
    "## Merge parent tweets with tweet replies"
   ]
  },
  {
   "cell_type": "code",
   "execution_count": 12,
   "metadata": {},
   "outputs": [
    {
     "name": "stdout",
     "output_type": "stream",
     "text": [
      "1000\n",
      "2000\n",
      "3000\n",
      "4000\n",
      "5000\n",
      "6000\n",
      "7000\n",
      "8000\n",
      "9000\n",
      "10000\n",
      "11000\n",
      "12000\n",
      "13000\n",
      "14000\n",
      "15000\n",
      "16000\n"
     ]
    }
   ],
   "source": [
    "op_df = []\n",
    "for ix, target_id in enumerate(covid_df.id):\n",
    "    if ix%1000==999: print(ix+1)\n",
    "    try:\n",
    "        with open(\"./dat/tweet_threads/%s.json\" % target_id, 'r') as f:\n",
    "            tmp = json.load(f)\n",
    "        if (tmp[-1]['created_at']=='unavailable') or (len(tmp)<=1):\n",
    "            continue\n",
    "        else:            \n",
    "            op = tmp[1] # direct parent\n",
    "            op_df.append([op['id'], target_id, op['user']['id'], op['user']['name'],\n",
    "                          op['user']['verified'], op['full_text'], \n",
    "                          op['retweet_count'], op['favorite_count']])\n",
    "    except:\n",
    "        continue\n",
    "        \n",
    "op_df = pd.DataFrame(op_df, columns = ['post_id', 'reply_id', 'uid', 'uname', 'verified', \n",
    "                                       'parent_text', 'parent_ret', 'parent_likes'])"
   ]
  },
  {
   "cell_type": "code",
   "execution_count": 13,
   "metadata": {},
   "outputs": [
    {
     "name": "stdout",
     "output_type": "stream",
     "text": [
      "(12263, 12)\n"
     ]
    }
   ],
   "source": [
    "df_merged = covid_df.merge(op_df, left_on='id', right_on='reply_id')\n",
    "df_merged = df_merged[df_merged.uid_x!=df_merged.uid_y] ### created by different user\n",
    "\n",
    "df_merged = df_merged[['post_id', 'reply_id', 'uid_y', 'uname', 'verified',\n",
    "                       'parent_text', 'parent_ret', 'parent_likes', 'uid_x', 'created', 'text', 'sims']]\n",
    "df_merged = df_merged.reset_index(drop=True)\n",
    "df_merged.columns = ['pid', 'cid', 'uid', 'uname', 'verified', \n",
    "                     'parent_text', 'parent_ret', 'parent_likes', 'commentor_id',\n",
    "                     'comment_created_at', 'reply', 'similarity']\n",
    "df_merged = df_merged.drop_duplicates()\n",
    "print(df_merged.shape)"
   ]
  },
  {
   "cell_type": "code",
   "execution_count": 16,
   "metadata": {},
   "outputs": [
    {
     "name": "stdout",
     "output_type": "stream",
     "text": [
      "the number of english comments (11751, 13)\n"
     ]
    }
   ],
   "source": [
    "import importlib\n",
    "importlib.reload(workers)\n",
    "\n",
    "num_processors = 10\n",
    "p=Pool(processes = num_processors)\n",
    "output = p.map(workers.detect_lang, df_merged.parent_text) \n",
    "\n",
    "df_merged['lang'] = output\n",
    "df_merged = df_merged[df_merged.lang=='en']  # written in English\n",
    "df_merged = df_merged.reset_index(drop=True)\n",
    "\n",
    "p.close()\n",
    "p.terminate()\n",
    "print(\"the number of english comments\", df_merged.shape)\n",
    "\n",
    "num_processors = 5\n",
    "p=Pool(processes = num_processors)\n",
    "output = p.map(workers.twitter_preprocessing, df_merged.parent_text)\n",
    "p.close()\n",
    "p.terminate()\n",
    "\n",
    "df_merged = df_merged.assign(parent_text = output)\n",
    "df_merged = df_merged.drop('lang', axis=1)\n",
    "df_merged = df_merged.assign(parent_text_lower = [x.lower() for x in df_merged.parent_text])"
   ]
  },
  {
   "cell_type": "markdown",
   "metadata": {},
   "source": [
    "## Apply query"
   ]
  },
  {
   "cell_type": "code",
   "execution_count": 17,
   "metadata": {},
   "outputs": [
    {
     "name": "stdout",
     "output_type": "stream",
     "text": [
      "containing corona related keywords: (3318, 13)\n",
      "number of unique posts is 3318\n"
     ]
    }
   ],
   "source": [
    "criteria1 = df_merged.parent_text_lower.str.contains(\"corona|coronavirus|covid19|covid-19|2019-nCoV|wuhanvirus\")\n",
    "criteria2 = df_merged.parent_text_lower.str.contains(\"wuhan\") & df_merged.parent_text.str.contains(\"virus\")\n",
    "criteria3 = criteria1 | criteria2 \n",
    "idx = criteria3\n",
    "idx[idx.isna()] = False\n",
    "df_merged = df_merged[idx==True]\n",
    "print('containing corona related keywords:', df_merged.shape)\n",
    "print(\"number of unique posts is\", len(set(df_merged.cid)))"
   ]
  },
  {
   "cell_type": "code",
   "execution_count": 19,
   "metadata": {},
   "outputs": [
    {
     "name": "stdout",
     "output_type": "stream",
     "text": [
      "containing antibiotic related keywords: (573, 13)\n",
      "number of unique posts is 573\n"
     ]
    }
   ],
   "source": [
    "idx = df_merged.parent_text_lower.str.contains(\"antibiotic|antibiotics\")\n",
    "idx[idx.isna()] = False\n",
    "df_merged = df_merged[idx==True]\n",
    "print('containing antibiotic related keywords:', df_merged.shape)\n",
    "print(\"number of unique posts is\", len(set(df_merged.cid)))\n",
    "\n",
    "df_merged.pid = ['_'+str(x) for x in df_merged.pid]\n",
    "df_merged.cid = ['_'+str(x) for x in df_merged.cid]\n",
    "df_merged.uid = ['_'+str(x) for x in df_merged.uid]\n",
    "df_merged.commentor_id = ['_'+str(x) for x in df_merged.commentor_id]"
   ]
  },
  {
   "cell_type": "markdown",
   "metadata": {},
   "source": [
    "### Choose top 200 parents"
   ]
  },
  {
   "cell_type": "code",
   "execution_count": 20,
   "metadata": {},
   "outputs": [],
   "source": [
    "top_200 = df_merged[['pid', 'uid', 'uname', 'parent_text', 'similarity', 'comment_created_at', 'reply']]\n",
    "top_200 = top_200.reset_index(drop=True)\n",
    "uniq_pids = set()\n",
    "for i in range(top_200.shape[0]):\n",
    "    uniq_pids.add(top_200.pid[i])\n",
    "    if len(uniq_pids)==200: # choose n unique parent tweets\n",
    "        end_idx = i\n",
    "        break        \n",
    "top_200 = top_200[:end_idx+1]"
   ]
  },
  {
   "cell_type": "code",
   "execution_count": 21,
   "metadata": {},
   "outputs": [],
   "source": [
    "parent_reply_merged = top_200[['pid', 'uid', 'parent_text']]\n",
    "parent_reply_merged = parent_reply_merged.drop_duplicates()\n",
    "parent_reply_merged = parent_reply_merged.reset_index(drop=True)\n",
    "#parent_reply_merged.to_csv(\"./res/covid_parent_reply_final.csv\", index=False)"
   ]
  },
  {
   "cell_type": "markdown",
   "metadata": {},
   "source": [
    "# Process non-replies"
   ]
  },
  {
   "cell_type": "code",
   "execution_count": 26,
   "metadata": {},
   "outputs": [
    {
     "name": "stdout",
     "output_type": "stream",
     "text": [
      "size of df in the year 2020: (8780, 4)\n",
      "size of df after dropping duplicates: (8780, 4)\n"
     ]
    },
    {
     "data": {
      "image/png": "[encoded data removed]",
      "text/plain": [
       "<Figure size 432x288 with 1 Axes>"
      ]
     },
     "metadata": {
      "needs_background": "light"
     },
     "output_type": "display_data"
    }
   ],
   "source": [
    "file_list = glob.glob('./dat/covid_antibiotics_non_replies/*.json')\n",
    "    \n",
    "def extract_tweet_info(x):\n",
    "    return [x['id'], int(x['created_at']/1000), x.get('user_id', ''), x['tweet']]\n",
    "\n",
    "sampled_tweets = []\n",
    "for file in file_list:\n",
    "    for line in open(file, 'r', encoding='utf-8'):\n",
    "        sampled_tweets.append(extract_tweet_info(json.loads(line)))\n",
    "        \n",
    "sampled_tweets_df = pd.DataFrame(sampled_tweets, columns=['id', 'created', 'uid', 'text'])\n",
    "sampled_tweets_df.index = sampled_tweets_df.created.apply(lambda x: datetime.datetime.fromtimestamp(x, pytz.utc))\n",
    "sampled_tweets_df = sampled_tweets_df.sort_index()\n",
    "\n",
    "criteria  = (sampled_tweets_df.index.year==2020)\n",
    "sampled_tweets_df = sampled_tweets_df[criteria]\n",
    "print(\"size of df in the year 2020:\", sampled_tweets_df.shape)\n",
    "sampled_tweets_df = sampled_tweets_df.drop_duplicates()\n",
    "print(\"size of df after dropping duplicates:\", sampled_tweets_df.shape)\n",
    "\n",
    "sampled_tweets_df = sampled_tweets_df[sampled_tweets_df.index.date<=datetime.date(2020,3,31)]\n",
    "\n",
    "pd.plotting.register_matplotlib_converters()\n",
    "plt.plot(sampled_tweets_df.groupby(lambda x: x.date)['text'].count()[1:])\n",
    "plt.xticks(rotation=70)\n",
    "\n",
    "df_subset = sampled_tweets_df.copy()"
   ]
  },
  {
   "cell_type": "code",
   "execution_count": 33,
   "metadata": {},
   "outputs": [
    {
     "name": "stdout",
     "output_type": "stream",
     "text": [
      "Wall time: 191 ms\n"
     ]
    }
   ],
   "source": [
    "num_processors = 20\n",
    "p=Pool(processes = num_processors)\n",
    "%time output = p.map(workers.detect_lang, df_subset.text)\n",
    "\n",
    "df_subset = df_subset.assign(lang = output)\n",
    "df_subset = df_subset[df_subset.lang=='en']\n",
    "df_subset = df_subset.reset_index(drop=True)\n",
    "\n",
    "p.close()\n",
    "p.terminate()\n",
    "print(\"the number of english comments\", df_subset.shape)\n",
    "\n",
    "import importlib\n",
    "importlib.reload(workers)\n",
    "\n",
    "num_processors = 5\n",
    "p=Pool(processes = num_processors)\n",
    "%time output = p.map(workers.twitter_preprocessing, df_subset.text)\n",
    "p.close()\n",
    "p.terminate()\n",
    "\n",
    "df_subset = df_subset.assign(text = output)\n",
    "df_subset = df_subset.drop('lang', axis=1)\n",
    "df_subset = df_subset.assign(misinfo = 0)"
   ]
  },
  {
   "cell_type": "code",
   "execution_count": 34,
   "metadata": {},
   "outputs": [],
   "source": [
    "covid_df_non_replies = df_subset[['id', 'uid', 'text']]\n",
    "covid_df_non_replies_sampled = covid_df_non_replies.sample(200, random_state=20200331)\n",
    "covid_df_non_replies_sampled = covid_df_non_replies_sampled.assign(misinfo=0)\n",
    "covid_df_non_replies_sampled.id = ['_'+str(x) for x in covid_df_non_replies_sampled.id]\n",
    "covid_df_non_replies_sampled.uid = ['_'+str(x) for x in covid_df_non_replies_sampled.uid]\n",
    "#covid_df_non_replies_sampled.to_csv('./res/covid_tweet_non_replies_sampled.csv', index=False)"
   ]
  },
  {
   "cell_type": "markdown",
   "metadata": {},
   "source": [
    "# Upstream and downstream"
   ]
  },
  {
   "cell_type": "code",
   "execution_count": 38,
   "metadata": {},
   "outputs": [],
   "source": [
    "our_strategy = pd.read_csv(\"./res/covid_parent_reply_final_labeled.csv\", encoding='latin-1')\n",
    "keyword_based_search = pd.read_csv(\"./res/covid_tweet_non_replies_sampled_labeled.csv\", encoding='latin-1')"
   ]
  },
  {
   "cell_type": "code",
   "execution_count": 39,
   "metadata": {},
   "outputs": [
    {
     "data": {
      "text/plain": [
       "55"
      ]
     },
     "execution_count": 39,
     "metadata": {},
     "output_type": "execute_result"
    }
   ],
   "source": [
    "misinfo_df = our_strategy[our_strategy.misinfo!=0]\n",
    "misinfo_unique_uid = list(set(misinfo_df.uid))\n",
    "misinfo_unique_uid = [x[1:] for x in misinfo_unique_uid]\n",
    "\n",
    "len(misinfo_unique_uid)"
   ]
  },
  {
   "cell_type": "code",
   "execution_count": 40,
   "metadata": {},
   "outputs": [],
   "source": [
    "n_friends = []\n",
    "n_followers = []\n",
    "user_names = []\n",
    "selected_uids = []\n",
    "for uid in misinfo_unique_uid:\n",
    "    try:\n",
    "        tmp = api.get_user(user_id=uid)\n",
    "    except:\n",
    "        continue\n",
    "    selected_uids.append(uid)\n",
    "    user_names.append(tmp._json['name'])\n",
    "    n_friends.append(tmp._json['friends_count'])\n",
    "    n_followers.append(tmp._json['followers_count'])\n",
    "    time.sleep(0.5)"
   ]
  },
  {
   "cell_type": "code",
   "execution_count": 41,
   "metadata": {},
   "outputs": [],
   "source": [
    "misinfo_unique_uid_df = pd.DataFrame({'uid': selected_uids, 'uname': user_names,\n",
    "                                      'n_friends': n_friends, 'n_followers': n_followers})"
   ]
  },
  {
   "cell_type": "code",
   "execution_count": 43,
   "metadata": {},
   "outputs": [
    {
     "data": {
      "text/html": [
       "<div>\n",
       "<style scoped>\n",
       "    .dataframe tbody tr th:only-of-type {\n",
       "        vertical-align: middle;\n",
       "    }\n",
       "\n",
       "    .dataframe tbody tr th {\n",
       "        vertical-align: top;\n",
       "    }\n",
       "\n",
       "    .dataframe thead th {\n",
       "        text-align: right;\n",
       "    }\n",
       "</style>\n",
       "<table border=\"1\" class=\"dataframe\">\n",
       "  <thead>\n",
       "    <tr style=\"text-align: right;\">\n",
       "      <th></th>\n",
       "      <th>uid</th>\n",
       "      <th>uname</th>\n",
       "      <th>n_friends</th>\n",
       "      <th>n_followers</th>\n",
       "    </tr>\n",
       "  </thead>\n",
       "  <tbody>\n",
       "    <tr>\n",
       "      <td>0</td>\n",
       "      <td>1169715382971768833</td>\n",
       "      <td>Gracie P Smith</td>\n",
       "      <td>1168</td>\n",
       "      <td>871</td>\n",
       "    </tr>\n",
       "    <tr>\n",
       "      <td>1</td>\n",
       "      <td>839948922411954176</td>\n",
       "      <td>Chief Two Guns</td>\n",
       "      <td>1884</td>\n",
       "      <td>687</td>\n",
       "    </tr>\n",
       "    <tr>\n",
       "      <td>2</td>\n",
       "      <td>2616394622</td>\n",
       "      <td>Ghia Griffin</td>\n",
       "      <td>4320</td>\n",
       "      <td>3011</td>\n",
       "    </tr>\n",
       "    <tr>\n",
       "      <td>3</td>\n",
       "      <td>27188418</td>\n",
       "      <td>Darnell de Palma</td>\n",
       "      <td>85</td>\n",
       "      <td>1366</td>\n",
       "    </tr>\n",
       "    <tr>\n",
       "      <td>4</td>\n",
       "      <td>975239623575191552</td>\n",
       "      <td>Chris Mark</td>\n",
       "      <td>779</td>\n",
       "      <td>291</td>\n",
       "    </tr>\n",
       "  </tbody>\n",
       "</table>\n",
       "</div>"
      ],
      "text/plain": [
       "                   uid             uname  n_friends  n_followers\n",
       "0  1169715382971768833    Gracie P Smith       1168          871\n",
       "1   839948922411954176    Chief Two Guns       1884          687\n",
       "2           2616394622      Ghia Griffin       4320         3011\n",
       "3             27188418  Darnell de Palma         85         1366\n",
       "4   975239623575191552        Chris Mark        779          291"
      ]
     },
     "execution_count": 43,
     "metadata": {},
     "output_type": "execute_result"
    }
   ],
   "source": [
    "### we only considered accounts which number of friends and that of followers are both less than 10000\n",
    "\n",
    "misinfo_unique_uid_df_selected = misinfo_unique_uid_df[(misinfo_unique_uid_df.n_friends<10000) &\n",
    "                                                      (misinfo_unique_uid_df.n_followers<10000)]\n",
    "misinfo_unique_uid_df_selected = misinfo_unique_uid_df_selected.reset_index(drop=True)\n",
    "misinfo_unique_uid_df_selected.head()"
   ]
  },
  {
   "cell_type": "markdown",
   "metadata": {},
   "source": [
    "## Retrieve list of friends"
   ]
  },
  {
   "cell_type": "code",
   "execution_count": null,
   "metadata": {},
   "outputs": [],
   "source": [
    "friends_by_uid = {}\n",
    "for ix, uid in enumerate(misinfo_unique_uid_df_selected.uid):\n",
    "    print(ix, \"starts -\", uid)\n",
    "    friends = []\n",
    "    for page in tweepy.Cursor(api.friends_ids, user_id=uid).pages():\n",
    "        friends.extend(page)\n",
    "        time.sleep(60)\n",
    "    friends_by_uid[uid] = friends"
   ]
  },
  {
   "cell_type": "code",
   "execution_count": null,
   "metadata": {},
   "outputs": [],
   "source": [
    "# import pickle\n",
    "# with open(\"./res/covid_friends_of_misinfo_parents_200.pickle\", 'wb') as f:\n",
    "#     pickle.dump(friends_by_uid, f)"
   ]
  },
  {
   "cell_type": "markdown",
   "metadata": {},
   "source": [
    "## Retrieve list of followers"
   ]
  },
  {
   "cell_type": "code",
   "execution_count": null,
   "metadata": {},
   "outputs": [],
   "source": [
    "followers_by_uid = {}\n",
    "for ix, uid in enumerate(misinfo_unique_uid_df_selected.uid):\n",
    "    print(ix, \"starts -\", uid)\n",
    "    followers = []\n",
    "    for page in tweepy.Cursor(api.followers_ids, user_id=uid).pages():\n",
    "        followers.extend(page)\n",
    "        time.sleep(60)\n",
    "    followers_by_uid[uid] = followers"
   ]
  },
  {
   "cell_type": "code",
   "execution_count": null,
   "metadata": {},
   "outputs": [],
   "source": [
    "# import pickle\n",
    "# with open(\"./res/covid_followers_of_misinfo_parents_200.pickle\", 'wb') as f:\n",
    "#     pickle.dump(followers_by_uid, f)"
   ]
  },
  {
   "cell_type": "markdown",
   "metadata": {},
   "source": [
    "## Get misinformation in both streams"
   ]
  },
  {
   "cell_type": "code",
   "execution_count": 44,
   "metadata": {},
   "outputs": [],
   "source": [
    "with open(\"./res/covid_friends_of_misinfo_parents_200.pickle\", 'rb') as f:\n",
    "    friends_by_uid = pickle.load(f)\n",
    "with open(\"./res/covid_followers_of_misinfo_parents_200.pickle\", 'rb') as f:\n",
    "    followers_by_uid = pickle.load(f)"
   ]
  },
  {
   "cell_type": "markdown",
   "metadata": {},
   "source": [
    "### all friends and followers"
   ]
  },
  {
   "cell_type": "code",
   "execution_count": 45,
   "metadata": {},
   "outputs": [
    {
     "name": "stdout",
     "output_type": "stream",
     "text": [
      "54786\n",
      "57712\n"
     ]
    }
   ],
   "source": [
    "all_friends = list(set(list(chain(*list(friends_by_uid.values())))))\n",
    "for uid in misinfo_unique_uid_df_selected.uid:\n",
    "    if uid in all_friends:\n",
    "        all_friends.remove(uid)\n",
    "print(len(all_friends))\n",
    "\n",
    "all_followers = list(set(list(chain(*list(followers_by_uid.values())))))\n",
    "for uid in misinfo_unique_uid_df_selected.uid:\n",
    "    if uid in all_followers:\n",
    "        all_followers.remove(uid)\n",
    "print(len(all_followers))"
   ]
  },
  {
   "cell_type": "code",
   "execution_count": 46,
   "metadata": {},
   "outputs": [
    {
     "name": "stdout",
     "output_type": "stream",
     "text": [
      "friends: (213, 3)\n",
      "followers: (110, 3)\n"
     ]
    }
   ],
   "source": [
    "covid_df_non_replies_generated_by_friends = covid_df_non_replies[covid_df_non_replies.uid.isin(all_friends)]\n",
    "covid_df_non_replies_generated_by_friends = covid_df_non_replies_generated_by_friends.drop_duplicates()\n",
    "covid_df_non_replies_generated_by_friends.id = ['_'+str(x) for x in covid_df_non_replies_generated_by_friends.id]\n",
    "covid_df_non_replies_generated_by_friends.uid = ['_'+str(x) for x in covid_df_non_replies_generated_by_friends.uid]\n",
    "print(\"friends:\", covid_df_non_replies_generated_by_friends.shape)\n",
    "\n",
    "covid_df_non_replies_generated_by_followers = covid_df_non_replies[covid_df_non_replies.uid.isin(all_followers)]\n",
    "covid_df_non_replies_generated_by_followers = covid_df_non_replies_generated_by_followers.drop_duplicates()\n",
    "covid_df_non_replies_generated_by_followers.id = ['_'+str(x) for x in covid_df_non_replies_generated_by_followers.id]\n",
    "covid_df_non_replies_generated_by_followers.uid = ['_'+str(x) for x in covid_df_non_replies_generated_by_followers.uid]\n",
    "print(\"followers:\", covid_df_non_replies_generated_by_followers.shape)"
   ]
  },
  {
   "cell_type": "code",
   "execution_count": 47,
   "metadata": {},
   "outputs": [],
   "source": [
    "covid_df_non_replies_generated_by_friends.to_csv(\"./res/covid_twitter_friends_of_parent.csv\", index=False)\n",
    "covid_df_non_replies_generated_by_followers.to_csv(\"./res/covid_twitter_followers_of_parent.csv\", index=False)"
   ]
  },
  {
   "cell_type": "markdown",
   "metadata": {},
   "source": [
    "# Draw SNR figure"
   ]
  },
  {
   "cell_type": "code",
   "execution_count": 52,
   "metadata": {},
   "outputs": [],
   "source": [
    "our_strategy = pd.read_csv(\"./res/covid_parent_reply_final_labeled.csv\", encoding='latin-1')\n",
    "keyword_based_search = pd.read_csv(\"./res/covid_tweet_non_replies_sampled_labeled.csv\", encoding='latin-1')\n",
    "friends_labeled = pd.read_csv(\"./res/covid_twitter_friends_of_parent_labeled.csv\")\n",
    "followers_labeled = pd.read_csv(\"./res/covid_twitter_followers_of_parent_labeled.csv\")"
   ]
  },
  {
   "cell_type": "code",
   "execution_count": 67,
   "metadata": {},
   "outputs": [],
   "source": [
    "snr_df = pd.DataFrame({'type': 'Our strategy', 'Category': our_strategy.misinfo})\n",
    "snr_df = snr_df.append(pd.DataFrame({'type': 'Keyword-based search', 'Category': keyword_based_search.misinfo}))\n",
    "snr_df = snr_df.append(pd.DataFrame({'type': 'Friends', \n",
    "                                     'Category': friends_labeled.misinfo}))\n",
    "snr_df = snr_df.append(pd.DataFrame({'type': 'Followers', \n",
    "                                     'Category': followers_labeled.misinfo}))\n",
    "\n",
    "snr_df.Category = ['Category ' + str(x) for x in snr_df.Category]\n",
    "snr_df = snr_df.assign(value = 1)\n",
    "\n",
    "snr_df = snr_df.groupby(['type', 'Category']).agg({'value': 'sum'})\n",
    "snr_df = snr_df.groupby(level=0).apply(lambda x: x / float(x.sum())).reset_index()"
   ]
  },
  {
   "cell_type": "code",
   "execution_count": 68,
   "metadata": {},
   "outputs": [],
   "source": [
    "snr_df = snr_df[snr_df.Category!='Category 0']\n",
    "\n",
    "summarize = snr_df.groupby('type').value.sum().to_frame().reset_index()\n",
    "summarize['Category'] = \"Total\"\n",
    "snr_df = snr_df.append(summarize)"
   ]
  },
  {
   "cell_type": "code",
   "execution_count": 69,
   "metadata": {},
   "outputs": [
    {
     "data": {
      "text/html": [
       "<div>\n",
       "<style scoped>\n",
       "    .dataframe tbody tr th:only-of-type {\n",
       "        vertical-align: middle;\n",
       "    }\n",
       "\n",
       "    .dataframe tbody tr th {\n",
       "        vertical-align: top;\n",
       "    }\n",
       "\n",
       "    .dataframe thead th {\n",
       "        text-align: right;\n",
       "    }\n",
       "</style>\n",
       "<table border=\"1\" class=\"dataframe\">\n",
       "  <thead>\n",
       "    <tr style=\"text-align: right;\">\n",
       "      <th></th>\n",
       "      <th>Category</th>\n",
       "      <th>type</th>\n",
       "      <th>value</th>\n",
       "    </tr>\n",
       "  </thead>\n",
       "  <tbody>\n",
       "    <tr>\n",
       "      <td>15</td>\n",
       "      <td>Category 1</td>\n",
       "      <td>Our strategy</td>\n",
       "      <td>0.200000</td>\n",
       "    </tr>\n",
       "    <tr>\n",
       "      <td>16</td>\n",
       "      <td>Category 2</td>\n",
       "      <td>Our strategy</td>\n",
       "      <td>0.060000</td>\n",
       "    </tr>\n",
       "    <tr>\n",
       "      <td>17</td>\n",
       "      <td>Category 3</td>\n",
       "      <td>Our strategy</td>\n",
       "      <td>0.010000</td>\n",
       "    </tr>\n",
       "    <tr>\n",
       "      <td>18</td>\n",
       "      <td>Category 4</td>\n",
       "      <td>Our strategy</td>\n",
       "      <td>0.020000</td>\n",
       "    </tr>\n",
       "    <tr>\n",
       "      <td>3</td>\n",
       "      <td>Total</td>\n",
       "      <td>Our strategy</td>\n",
       "      <td>0.290000</td>\n",
       "    </tr>\n",
       "    <tr>\n",
       "      <td>11</td>\n",
       "      <td>Category 1</td>\n",
       "      <td>Keyword-based search</td>\n",
       "      <td>0.090000</td>\n",
       "    </tr>\n",
       "    <tr>\n",
       "      <td>12</td>\n",
       "      <td>Category 2</td>\n",
       "      <td>Keyword-based search</td>\n",
       "      <td>0.005000</td>\n",
       "    </tr>\n",
       "    <tr>\n",
       "      <td>0</td>\n",
       "      <td>Category 3</td>\n",
       "      <td>Keyword-based search</td>\n",
       "      <td>0.000000</td>\n",
       "    </tr>\n",
       "    <tr>\n",
       "      <td>13</td>\n",
       "      <td>Category 4</td>\n",
       "      <td>Keyword-based search</td>\n",
       "      <td>0.045000</td>\n",
       "    </tr>\n",
       "    <tr>\n",
       "      <td>2</td>\n",
       "      <td>Total</td>\n",
       "      <td>Keyword-based search</td>\n",
       "      <td>0.140000</td>\n",
       "    </tr>\n",
       "    <tr>\n",
       "      <td>6</td>\n",
       "      <td>Category 1</td>\n",
       "      <td>Friends</td>\n",
       "      <td>0.089202</td>\n",
       "    </tr>\n",
       "    <tr>\n",
       "      <td>7</td>\n",
       "      <td>Category 2</td>\n",
       "      <td>Friends</td>\n",
       "      <td>0.004695</td>\n",
       "    </tr>\n",
       "    <tr>\n",
       "      <td>8</td>\n",
       "      <td>Category 3</td>\n",
       "      <td>Friends</td>\n",
       "      <td>0.004695</td>\n",
       "    </tr>\n",
       "    <tr>\n",
       "      <td>9</td>\n",
       "      <td>Category 4</td>\n",
       "      <td>Friends</td>\n",
       "      <td>0.014085</td>\n",
       "    </tr>\n",
       "    <tr>\n",
       "      <td>1</td>\n",
       "      <td>Total</td>\n",
       "      <td>Friends</td>\n",
       "      <td>0.112676</td>\n",
       "    </tr>\n",
       "    <tr>\n",
       "      <td>1</td>\n",
       "      <td>Category 1</td>\n",
       "      <td>Followers</td>\n",
       "      <td>0.136364</td>\n",
       "    </tr>\n",
       "    <tr>\n",
       "      <td>2</td>\n",
       "      <td>Category 2</td>\n",
       "      <td>Followers</td>\n",
       "      <td>0.009091</td>\n",
       "    </tr>\n",
       "    <tr>\n",
       "      <td>3</td>\n",
       "      <td>Category 3</td>\n",
       "      <td>Followers</td>\n",
       "      <td>0.009091</td>\n",
       "    </tr>\n",
       "    <tr>\n",
       "      <td>4</td>\n",
       "      <td>Category 4</td>\n",
       "      <td>Followers</td>\n",
       "      <td>0.018182</td>\n",
       "    </tr>\n",
       "    <tr>\n",
       "      <td>0</td>\n",
       "      <td>Total</td>\n",
       "      <td>Followers</td>\n",
       "      <td>0.172727</td>\n",
       "    </tr>\n",
       "  </tbody>\n",
       "</table>\n",
       "</div>"
      ],
      "text/plain": [
       "      Category                  type     value\n",
       "15  Category 1          Our strategy  0.200000\n",
       "16  Category 2          Our strategy  0.060000\n",
       "17  Category 3          Our strategy  0.010000\n",
       "18  Category 4          Our strategy  0.020000\n",
       "3        Total          Our strategy  0.290000\n",
       "11  Category 1  Keyword-based search  0.090000\n",
       "12  Category 2  Keyword-based search  0.005000\n",
       "0   Category 3  Keyword-based search  0.000000\n",
       "13  Category 4  Keyword-based search  0.045000\n",
       "2        Total  Keyword-based search  0.140000\n",
       "6   Category 1               Friends  0.089202\n",
       "7   Category 2               Friends  0.004695\n",
       "8   Category 3               Friends  0.004695\n",
       "9   Category 4               Friends  0.014085\n",
       "1        Total               Friends  0.112676\n",
       "1   Category 1             Followers  0.136364\n",
       "2   Category 2             Followers  0.009091\n",
       "3   Category 3             Followers  0.009091\n",
       "4   Category 4             Followers  0.018182\n",
       "0        Total             Followers  0.172727"
      ]
     },
     "execution_count": 69,
     "metadata": {},
     "output_type": "execute_result"
    }
   ],
   "source": [
    "snr_df = snr_df.append(pd.DataFrame({'Category': ['Category 3'], 'value': [0.0],\n",
    "                                    'type': ['Keyword-based search']}))\n",
    "#snr_df = snr_df.append(pd.DataFrame({'Category': ['Category 2', 'Category 3', 'Category 4'], \n",
    "#                                     'value': [0.0, 0.0, 0.0],\n",
    "#                                    'type': ['Friends']*3}))\n",
    "#snr_df = snr_df.append(pd.DataFrame({'Category': ['Category 2', 'Category 4'], \n",
    "#                                     'value': [0.0, 0.0],\n",
    "#                                    'type': ['Followers']*2}))\n",
    "\n",
    "\n",
    "snr_df['type'] = pd.Categorical(snr_df['type'], [\"Our strategy\", \"Keyword-based search\",\n",
    "                                                 \"Friends\", \"Followers\", ])\n",
    "snr_df = snr_df.sort_values(by=['type', 'Category'])\n",
    "snr_df"
   ]
  },
  {
   "cell_type": "code",
   "execution_count": 80,
   "metadata": {},
   "outputs": [
    {
     "data": {
      "image/png": "[encoded data removed]",
      "text/plain": [
       "<Figure size 3000x900 with 1 Axes>"
      ]
     },
     "metadata": {
      "needs_background": "light"
     },
     "output_type": "display_data"
    }
   ],
   "source": [
    "import seaborn as sns\n",
    "plt.figure(figsize=(10,3), dpi=300)\n",
    "\n",
    "flatui = [\"#9b59b6\", \"#3498db\", \"#95a5a6\", \"#e74c3c\", \"#34495e\", \"#2ecc71\"]\n",
    "nect = ['#8a5e3f', '#07936f', '#8d6935', '#eee7cd', '#38466b', '#0a0d1e']\n",
    "custom = sns.color_palette(\"deep\", 6)\n",
    "\n",
    "ax = sns.barplot(x='type', y='value', hue='Category', data=snr_df, palette=custom)\n",
    "plt.xlabel('')\n",
    "plt.ylabel('Signal-to-noise ratio', fontsize=13, fontname='calibri')\n",
    "\n",
    "plt.xticks([0,1,2,3], \n",
    "           ['Our strategy', 'Keyword-based search', 'Friends of \\nfact checked accounts', \n",
    "            'Followers of \\nfact checked accounts', ],\n",
    "            fontsize=13, fontname='calibri', rotation=0)\n",
    "plt.yticks(fontsize=13, fontname='calibri')\n",
    "plt.tick_params(axis='x',length=5)\n",
    "plt.tick_params(direction='in', axis='y')\n",
    "plt.ylim(0, 0.34)\n",
    "\n",
    "L = plt.legend(fontsize=10, loc=1)\n",
    "plt.setp(L.texts, family='calibri')\n",
    "plt.savefig(\"./res/figure2.png\", bbox_inches='tight')"
   ]
  }
 ],
 "metadata": {
  "kernelspec": {
   "display_name": "Python 3",
   "language": "python",
   "name": "python3"
  },
  "language_info": {
   "codemirror_mode": {
    "name": "ipython",
    "version": 3
   },
   "file_extension": ".py",
   "mimetype": "text/x-python",
   "name": "python",
   "nbconvert_exporter": "python",
   "pygments_lexer": "ipython3",
   "version": "3.7.3"
  }
 },
 "nbformat": 4,
 "nbformat_minor": 2
}
