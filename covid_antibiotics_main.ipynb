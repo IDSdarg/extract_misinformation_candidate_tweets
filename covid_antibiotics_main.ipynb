{
 "cells": [
  {
   "cell_type": "code",
   "execution_count": null,
   "metadata": {},
   "outputs": [],
   "source": [
    "import glob, scipy, json, re, time, pickle\n",
    "import pandas as pd\n",
    "import workers\n",
    "from multiprocessing import Pool\n",
    "import numpy as np\n",
    "import matplotlib.pyplot as plt\n",
    "import feather, pytz, spacy, datetime\n",
    "from itertools import chain\n",
    "from datetime import timezone\n",
    "import en_core_web_sm\n",
    "nlp = en_core_web_sm.load()\n",
    "\n",
    "from sentence_transformers import SentenceTransformer\n",
    "sbert = SentenceTransformer('bert-base-nli-mean-tokens')"
   ]
  },
  {
   "cell_type": "markdown",
   "metadata": {},
   "source": [
    "# Preprocess replies"
   ]
  },
  {
   "cell_type": "code",
   "execution_count": null,
   "metadata": {},
   "outputs": [],
   "source": [
    "file_list = glob.glob('../dat/hks_misinformation_review/covid_antibiotics_replies/*.json')\n",
    "\n",
    "sampled_tweets = []\n",
    "for line in open(file_list[0], 'r', encoding='utf-8'):\n",
    "    sampled_tweets.append(json.loads(line))\n",
    "    \n",
    "def extract_tweet_info(x):\n",
    "    is_replied = (x['reply_to']!='')*1\n",
    "    return [x['id'], int(x['created_at']/1000), x.get('user_id', ''), x['tweet']]\n",
    "\n",
    "sampled_tweets = []\n",
    "for file in file_list:\n",
    "    for line in open(file, 'r', encoding='utf-8'):\n",
    "        sampled_tweets.append(extract_tweet_info(json.loads(line)))\n",
    "        \n",
    "sampled_tweets_df = pd.DataFrame(sampled_tweets, columns=['id', 'created', 'uid', 'text'])\n",
    "print(sampled_tweets_df.shape)"
   ]
  }
 ],
 "metadata": {
  "kernelspec": {
   "display_name": "Python 3",
   "language": "python",
   "name": "python3"
  },
  "language_info": {
   "codemirror_mode": {
    "name": "ipython",
    "version": 3
   },
   "file_extension": ".py",
   "mimetype": "text/x-python",
   "name": "python",
   "nbconvert_exporter": "python",
   "pygments_lexer": "ipython3",
   "version": "3.7.3"
  }
 },
 "nbformat": 4,
 "nbformat_minor": 2
}
